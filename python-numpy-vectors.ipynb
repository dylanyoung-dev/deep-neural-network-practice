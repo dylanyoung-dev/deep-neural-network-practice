{
 "cells": [
  {
   "cell_type": "code",
   "execution_count": 5,
   "metadata": {},
   "outputs": [
    {
     "name": "stdout",
     "output_type": "stream",
     "text": [
      "[ 0.84272255  1.49558622  0.71270849  0.22639767 -0.91677526]\n",
      "(5,)\n",
      "[ 0.84272255  1.49558622  0.71270849  0.22639767 -0.91677526]\n"
     ]
    },
    {
     "ename": "AssertionError",
     "evalue": "",
     "output_type": "error",
     "traceback": [
      "\u001b[1;31m---------------------------------------------------------------------------\u001b[0m",
      "\u001b[1;31mAssertionError\u001b[0m                            Traceback (most recent call last)",
      "Cell \u001b[1;32mIn[5], line 11\u001b[0m\n\u001b[0;32m      7\u001b[0m \u001b[38;5;28mprint\u001b[39m (a\u001b[38;5;241m.\u001b[39mshape)\n\u001b[0;32m      9\u001b[0m \u001b[38;5;28mprint\u001b[39m(a\u001b[38;5;241m.\u001b[39mT)\n\u001b[1;32m---> 11\u001b[0m \u001b[38;5;28;01massert\u001b[39;00m(a\u001b[38;5;241m.\u001b[39mshape \u001b[38;5;241m==\u001b[39m (\u001b[38;5;241m5\u001b[39m,\u001b[38;5;241m1\u001b[39m)) \u001b[38;5;66;03m# This is a column vector\u001b[39;00m\n\u001b[0;32m     13\u001b[0m \u001b[38;5;28mprint\u001b[39m(np\u001b[38;5;241m.\u001b[39mdot(a,a\u001b[38;5;241m.\u001b[39mT))\n",
      "\u001b[1;31mAssertionError\u001b[0m: "
     ]
    }
   ],
   "source": [
    "import numpy as np\n",
    "\n",
    "a = np.random.randn(5)\n",
    "\n",
    "print(a)\n",
    "\n",
    "print (a.shape)\n",
    "\n",
    "print(a.T)\n",
    "\n",
    "#assert(a.shape == (5,1))\n",
    "\n",
    "print(np.dot(a,a.T))"
   ]
  },
  {
   "cell_type": "code",
   "execution_count": 6,
   "metadata": {},
   "outputs": [
    {
     "name": "stdout",
     "output_type": "stream",
     "text": [
      "[[-0.97227657]\n",
      " [ 0.37326227]\n",
      " [-0.57284441]\n",
      " [-0.58543066]\n",
      " [-1.1910989 ]]\n",
      "[[-0.97227657  0.37326227 -0.57284441 -0.58543066 -1.1910989 ]]\n",
      "[[ 0.94532172 -0.36291416  0.5569632   0.56920051  1.15807755]\n",
      " [-0.36291416  0.13932472 -0.2138212  -0.21851918 -0.44459228]\n",
      " [ 0.5569632  -0.2138212   0.32815072  0.33536068  0.68231435]\n",
      " [ 0.56920051 -0.21851918  0.33536068  0.34272906  0.69730582]\n",
      " [ 1.15807755 -0.44459228  0.68231435  0.69730582  1.41871659]]\n"
     ]
    }
   ],
   "source": [
    "a = np.random.randn(5,1)\n",
    "\n",
    "print (a)\n",
    "\n",
    "print (a.T)\n",
    "\n",
    "#assert(a.shape == (5,1))\n",
    "\n",
    "print(np.dot(a,a.T))"
   ]
  }
 ],
 "metadata": {
  "kernelspec": {
   "display_name": "localdev",
   "language": "python",
   "name": "python3"
  },
  "language_info": {
   "codemirror_mode": {
    "name": "ipython",
    "version": 3
   },
   "file_extension": ".py",
   "mimetype": "text/x-python",
   "name": "python",
   "nbconvert_exporter": "python",
   "pygments_lexer": "ipython3",
   "version": "3.8.19"
  }
 },
 "nbformat": 4,
 "nbformat_minor": 2
}
